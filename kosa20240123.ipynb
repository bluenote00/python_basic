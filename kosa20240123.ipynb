{
  "nbformat": 4,
  "nbformat_minor": 0,
  "metadata": {
    "colab": {
      "provenance": [],
      "authorship_tag": "ABX9TyNA7ZUQm/UVNSP8YjiG+Q3b",
      "include_colab_link": true
    },
    "kernelspec": {
      "name": "python3",
      "display_name": "Python 3"
    },
    "language_info": {
      "name": "python"
    }
  },
  "cells": [
    {
      "cell_type": "markdown",
      "metadata": {
        "id": "view-in-github",
        "colab_type": "text"
      },
      "source": [
        "<a href=\"https://colab.research.google.com/github/bluenote00/python_basic/blob/main/kosa20240123.ipynb\" target=\"_parent\"><img src=\"https://colab.research.google.com/assets/colab-badge.svg\" alt=\"Open In Colab\"/></a>"
      ]
    },
    {
      "cell_type": "markdown",
      "source": [
        "**파이썬연습**"
      ],
      "metadata": {
        "id": "9R_79Tuo-5It"
      }
    },
    {
      "cell_type": "code",
      "source": [
        "# 문자열 연습\n",
        "str = 'Hello World'\n",
        "print(str)\n",
        "\n",
        "\n",
        "str = \"Hello World\"\n",
        "print(str)\n",
        "\n",
        "\n",
        "str = '''Hello\n",
        "World'''\n",
        "print(str)\n",
        "\n",
        "\n",
        "str = \"\"\"Hello\n",
        "World\"\"\"\n",
        "print(str)\n"
      ],
      "metadata": {
        "colab": {
          "base_uri": "https://localhost:8080/"
        },
        "id": "DCHPU8N2FXv1",
        "outputId": "bdcc6134-3159-47a2-899f-78007b812536"
      },
      "execution_count": 12,
      "outputs": [
        {
          "output_type": "stream",
          "name": "stdout",
          "text": [
            "Hello World\n",
            "Hello World\n",
            "Hello\n",
            "World\n",
            "Hello\n",
            "World\n"
          ]
        }
      ]
    },
    {
      "cell_type": "code",
      "source": [
        "# 리스트\n",
        "\n",
        "var = [1,'chris',['tommy', 'harry'], ('hans', 2)]\n",
        "print(var)\n",
        "print(var[3])\n",
        "print(var[3][0])\n",
        "print(var[-1])\n",
        "\n",
        "var[0]=7\n",
        "print(var[:2])\n",
        "\n",
        "del var[2:]\n",
        "print(var)\n",
        "\n",
        "print(len(var))\n"
      ],
      "metadata": {
        "colab": {
          "base_uri": "https://localhost:8080/"
        },
        "id": "21J0coubFZLN",
        "outputId": "9efc25a7-b4e0-477e-baa7-50e8c3055fae"
      },
      "execution_count": 13,
      "outputs": [
        {
          "output_type": "stream",
          "name": "stdout",
          "text": [
            "[1, 'chris', ['tommy', 'harry'], ('hans', 2)]\n",
            "('hans', 2)\n",
            "hans\n",
            "('hans', 2)\n",
            "[7, 'chris']\n",
            "[7, 'chris']\n",
            "2\n"
          ]
        }
      ]
    },
    {
      "cell_type": "code",
      "source": [
        "# 딕셔너리\n",
        "\n",
        "var = {'name' : 'chris', 'age' : 23, 1 : ['a' , 'b', 'c']}\n",
        "print(var)\n",
        "print(var['name'])\n",
        "\n",
        "\n",
        "var['age'] = 33\n",
        "print(var)\n",
        "del var[1]\n",
        "print(var)\n",
        "var[1] = 'Hi'\n",
        "print(var)\n",
        "\n",
        "var.update({'name' : 'hans', 'age' : 30})\n",
        "print(var)\n",
        "\n",
        "# 얕은 복사와 깊은 복사\n",
        "\n",
        "data_1 = {'1st' : 'chris', '2nd' : 'tommy', '3rd' : 'harry'}\n",
        "data_2 = data_1\n",
        "print(data_1)\n",
        "print(data_2)\n",
        "data_1['1st'] = 'hans'\n",
        "print(data_1)\n",
        "print(data_2)\n",
        "\n",
        "data_1 = {'1st' : 'chris', '2nd' : 'tommy', '3rd' : 'harry'}\n",
        "data_2 = data_1.copy()\n",
        "print(data_1)\n",
        "print(data_2)\n",
        "data_1['1st'] = 'hans'\n",
        "print(data_1)\n",
        "print(data_2)\n"
      ],
      "metadata": {
        "colab": {
          "base_uri": "https://localhost:8080/"
        },
        "id": "DxRvtEqPFduR",
        "outputId": "6d543917-dd3d-4b48-9966-2a51432be2ee"
      },
      "execution_count": 14,
      "outputs": [
        {
          "output_type": "stream",
          "name": "stdout",
          "text": [
            "{'name': 'chris', 'age': 23, 1: ['a', 'b', 'c']}\n",
            "chris\n",
            "{'name': 'chris', 'age': 33, 1: ['a', 'b', 'c']}\n",
            "{'name': 'chris', 'age': 33}\n",
            "{'name': 'chris', 'age': 33, 1: 'Hi'}\n",
            "{'name': 'hans', 'age': 30, 1: 'Hi'}\n",
            "{'1st': 'chris', '2nd': 'tommy', '3rd': 'harry'}\n",
            "{'1st': 'chris', '2nd': 'tommy', '3rd': 'harry'}\n",
            "{'1st': 'hans', '2nd': 'tommy', '3rd': 'harry'}\n",
            "{'1st': 'hans', '2nd': 'tommy', '3rd': 'harry'}\n",
            "{'1st': 'chris', '2nd': 'tommy', '3rd': 'harry'}\n",
            "{'1st': 'chris', '2nd': 'tommy', '3rd': 'harry'}\n",
            "{'1st': 'hans', '2nd': 'tommy', '3rd': 'harry'}\n",
            "{'1st': 'chris', '2nd': 'tommy', '3rd': 'harry'}\n"
          ]
        }
      ]
    },
    {
      "cell_type": "code",
      "source": [
        "# 입출력 함수의 활용\n",
        "\n",
        "import math\n",
        "\n",
        "def getArea(length):\n",
        "  area = length*length*math.pi\n",
        "  return area\n",
        "\n",
        "value = input('Input a number: ')\n",
        "area = getArea(int(value))\n",
        "print('Input number : {0} => Area : {1}'.format(value, area))\n"
      ],
      "metadata": {
        "colab": {
          "base_uri": "https://localhost:8080/"
        },
        "id": "30l6RVaOFmbj",
        "outputId": "312486e4-01c0-4c13-f493-fd64943088f8"
      },
      "execution_count": 16,
      "outputs": [
        {
          "output_type": "stream",
          "name": "stdout",
          "text": [
            "Input a number: 12\n",
            "Input number : 12 => Area : 452.3893421169302\n"
          ]
        }
      ]
    },
    {
      "cell_type": "code",
      "source": [
        "# 함수\n",
        "# 파라미터도 없고 리턴값도 없음\n",
        "def hello():\n",
        "    print(\"Hello World\")\n",
        "\n",
        "hello()\n",
        "\n",
        "# 파라미터와 리턴값이 있음\n",
        "def add(x, y):\n",
        "    print(x)\n",
        "    print(y)\n",
        "    return x + y\n",
        "\n",
        "val_x = 1\n",
        "val_y = 2\n",
        "val_sum = add(val_x, val_y)\n",
        "print(val_sum)\n",
        "\n",
        "# 여러개의 값을 반환하는 함수\n",
        "def calc(a, b):\n",
        "    return a + b, a - b\n",
        "\n",
        "result = calc(1,3)\n",
        "print(result)\n",
        "\n",
        "\n",
        "x, y = calc(1,3)\n",
        "print(x)\n"
      ],
      "metadata": {
        "colab": {
          "base_uri": "https://localhost:8080/"
        },
        "id": "xKXjywZgFsM9",
        "outputId": "958db3c1-57e1-4547-d794-6b7a25460f66"
      },
      "execution_count": 20,
      "outputs": [
        {
          "output_type": "stream",
          "name": "stdout",
          "text": [
            "Hello World\n",
            "1\n",
            "2\n",
            "3\n",
            "(4, -2)\n",
            "4\n"
          ]
        }
      ]
    },
    {
      "cell_type": "code",
      "source": [
        "# Lamda\n",
        "# 일반적인 함수\n",
        "def add(a, b):\n",
        "    return a + b\n",
        "result = add(1,2)\n",
        "print(result)\n",
        "\n",
        "\n",
        "# 간단한 람다함수\n",
        "add = lambda a, b: a + b\n",
        "result = add(1,3)\n",
        "print(result)\n",
        "\n",
        "result = (lambda a, b: a + b)(1,4)\n",
        "print(result)\n"
      ],
      "metadata": {
        "id": "DNHq73-oF4go"
      },
      "execution_count": null,
      "outputs": []
    },
    {
      "cell_type": "code",
      "source": [
        "# File I/O와 예외처리\n",
        "\n",
        "\n",
        "# 새로운 퍄일에 데이터 쓰기\n",
        "file = open(\"test.txt\", \"w\")\n",
        "for data in range(1, 11):\n",
        "    file.write(f'{data} line\\n');\n",
        "file.close()\n",
        "\n",
        "\n",
        "# 기록한 데이터 읽기\n",
        "file = open(\"test.txt\", \"r\")\n",
        "while True:\n",
        "    line = file.readline()\n",
        "    if not line:\n",
        "        break\n",
        "    print(line)\n",
        "file.close\n",
        "\n",
        "\n",
        "# 예외처리 : try ~ except\n",
        "try:\n",
        "    myFile = open('NotExist.txt', 'r')\n",
        "except FileNotFoundError as e:\n",
        "    print('파일이 존재하지 않습니다.')\n",
        "    print(e)\n"
      ],
      "metadata": {
        "colab": {
          "base_uri": "https://localhost:8080/"
        },
        "id": "6O9CrmrFF8cC",
        "outputId": "31cc5747-258c-4c1d-a11c-143028bae376"
      },
      "execution_count": 18,
      "outputs": [
        {
          "output_type": "stream",
          "name": "stdout",
          "text": [
            "1 line\n",
            "\n",
            "2 line\n",
            "\n",
            "3 line\n",
            "\n",
            "4 line\n",
            "\n",
            "5 line\n",
            "\n",
            "6 line\n",
            "\n",
            "7 line\n",
            "\n",
            "8 line\n",
            "\n",
            "9 line\n",
            "\n",
            "10 line\n",
            "\n",
            "파일이 존재하지 않습니다.\n",
            "[Errno 2] No such file or directory: 'NotExist.txt'\n"
          ]
        }
      ]
    },
    {
      "cell_type": "markdown",
      "source": [
        "# **머신런닝연습**"
      ],
      "metadata": {
        "id": "Z7Vg4iAMLEH7"
      }
    },
    {
      "cell_type": "markdown",
      "source": [
        "ㅇ 교수님의 숙제\n",
        " 학점관리 시스템을 개발하고 싶다.\n",
        "  국어, 수학 의 평균   \n",
        "  70 점 이상 : A\n",
        "  40 점 이상 : B\n",
        "                    : C\n",
        "  AI(인공지능)으로 개발.\n",
        "\n",
        "  String caclGrade(KOR, MATH)\n",
        "  {\n",
        "         mean = (KOR + MATH) / 2\n",
        "         if (70<=mean) return ‘A’\n",
        "        ..\n",
        "        ...\n",
        "  }\n",
        "\n",
        "1) 학점 데이터를 확보 (2만건)\n",
        "    ---------------------------------------------\n",
        "       KOR       MATH            GRADE\n",
        "    ---------------------------------------------\n",
        "        90             90                      A\n",
        "        10             40                       C\n",
        "      ..\n",
        "       ..\n",
        " 2) 데이터 특징 파악, (필요시) 전처리\n",
        "\n",
        " 3) 학습용 데이터 (15000건) + 검증용 데이터 (5000건)\n",
        "\n",
        " 4) 파이썬/구글이 준 머신러닝 라이브러리에 입력 (학습데이터)\n",
        "\n",
        "       ==> Weigh 를 찾아줘.\n",
        "\n",
        " 5) 검증용 데이터로 정확도(품질) 검증.\n",
        "\n",
        "       ==> 99.9 % 정확도로 맞추고.\n",
        "\n",
        "  6) weight 파일을 드리겠습니다. (모델에 탑재하세요)\n",
        "\n",
        "       ==> SW 개발.\n",
        "\n",
        "  7) 다음학기 학생의 점수를 입력 (80, 70) ===> ‘A’\n"
      ],
      "metadata": {
        "id": "8NKae9G1LKBq"
      }
    },
    {
      "cell_type": "markdown",
      "source": [
        " (1) 학습을 위한 데이터를 우리가 직접 만들자.\n"
      ],
      "metadata": {
        "id": "r1lAYbpuLQA3"
      }
    },
    {
      "cell_type": "code",
      "source": [
        "#데이터 준비\n",
        "import random\n",
        "\n",
        "\n",
        "# 점수를 계산해서 평균에 따른 학점을 반환\n",
        "# 편의상 A, B, C로 구분함.\n",
        "def get_grade(kor, math):\n",
        "  mean = int((kor + math) / 2)\n",
        "  grade = \"C\"\n",
        "  if 70 <= mean:\n",
        "    grade = \"A\"\n",
        "  elif 40 <= mean:\n",
        "    grade = \"B\"\n",
        "  return grade\n",
        "\n",
        "# 20000개 데이터를 만들어 CSV에 기록한다.\n",
        "fp = open(\"grade.csv\",\"w\",encoding=\"utf-8\")\n",
        "fp.write(\"KOR,MATH,GRADE\\r\\n\")\n",
        "\n",
        "\n",
        "for i in range(20000):\n",
        "  kor = random.randint(10, 100)\n",
        "  math = random.randint(10, 100)\n",
        "  grade = get_grade(kor, math)\n",
        "  fp.write(\"{0},{1},{2}\\r\\n\".format(kor, math, grade))\n",
        "\n",
        "\n",
        "fp.close()\n"
      ],
      "metadata": {
        "id": "zh0j7i5GLUNQ"
      },
      "execution_count": 23,
      "outputs": []
    },
    {
      "cell_type": "markdown",
      "source": [
        "(2) 만들어진 데이터의 특징을 살펴보자 (그림)\n"
      ],
      "metadata": {
        "id": "Dg5T80tHMJKc"
      }
    },
    {
      "cell_type": "code",
      "source": [
        "# 특징 보기\n",
        "import matplotlib.pyplot as plt\n",
        "import pandas as pd\n",
        "\n",
        "\n",
        "# pands로 csv 파일 읽기\n",
        "grade = pd.read_csv(\"grade.csv\", index_col=2)\n",
        "\n",
        "# 그래프로 표시하기\n",
        "fig = plt.figure()\n",
        "ax = fig.add_subplot(1, 1, 1)\n",
        "\n",
        "# Lable 색상 표시하는 함수\n",
        "def scatter(label_text, color):\n",
        "  b = grade.loc[label_text]\n",
        "  ax.scatter(b[\"KOR\"],b[\"MATH\"], c=color, label=label_text)\n",
        "\n",
        "scatter(\"A\", \"red\")\n",
        "scatter(\"B\", \"blue\")\n",
        "scatter(\"C\", \"yellow\")\n",
        "ax.legend()\n",
        "\n"
      ],
      "metadata": {
        "id": "7KodMEb-MMJP",
        "outputId": "d3ccbe03-2137-40af-b840-c5f5829525b0",
        "colab": {
          "base_uri": "https://localhost:8080/",
          "height": 448
        }
      },
      "execution_count": 25,
      "outputs": [
        {
          "output_type": "execute_result",
          "data": {
            "text/plain": [
              "<matplotlib.legend.Legend at 0x7820ae156710>"
            ]
          },
          "metadata": {},
          "execution_count": 25
        },
        {
          "output_type": "display_data",
          "data": {
            "text/plain": [
              "<Figure size 640x480 with 1 Axes>"
            ],
            "image/png": "[encoded data removed]"
          },
          "metadata": {}
        }
      ]
    },
    {
      "cell_type": "markdown",
      "source": [
        "3) SVM (파이썬에서 제공하는 Support Vector Machine)을 이용해 보자."
      ],
      "metadata": {
        "id": "1wQxOQTfNJcU"
      }
    },
    {
      "cell_type": "code",
      "source": [
        "# SVM으로 머시러닝\n",
        "from sklearn import svm, metrics\n",
        "from sklearn.model_selection import train_test_split\n",
        "import pandas as pd\n",
        "\n",
        "\n",
        "# grade가 저장된 CSV 파일 읽기\n",
        "grade = pd.read_csv(\"grade.csv\")\n",
        "\n",
        "\n",
        "# 데이터 전처리 (학습을 위하여 데이터를 분리하고 가공-정규화)\n",
        "label = grade[\"GRADE\"]\n",
        "kor = grade[\"KOR\"] / 100 # 점수는 최대 100점\n",
        "math = grade[\"MATH\"] / 100\n",
        "data = pd.concat([kor, math], axis=1)\n",
        "\n",
        "\n",
        "# 학습 및 테스트 데이터로 분리\n",
        "data_train, data_test, label_train, label_test = \\\n",
        "    train_test_split(data, label)\n",
        "\n",
        "\n",
        "# 학습하기\n",
        "model = svm.SVC()\n",
        "model.fit(data_train, label_train)\n",
        "\n",
        "\n",
        "# 테스트 데이터로 에측하기\n",
        "predict = model.predict(data_test)\n",
        "\n",
        "\n",
        "# 결과 확인하고 평가하기\n",
        "ac_score = metrics.accuracy_score(label_test, predict)\n",
        "cl_report = metrics.classification_report(label_test, predict)\n",
        "print(\"Accuracy =\", ac_score)\n",
        "print(\"Report =\\n\", cl_report)\n"
      ],
      "metadata": {
        "id": "ysnWQEKHNNbn",
        "outputId": "49e4f3f1-4cc5-4876-bdf7-b4446e14777c",
        "colab": {
          "base_uri": "https://localhost:8080/"
        }
      },
      "execution_count": 26,
      "outputs": [
        {
          "output_type": "stream",
          "name": "stdout",
          "text": [
            "Accuracy = 0.9978\n",
            "Report =\n",
            "               precision    recall  f1-score   support\n",
            "\n",
            "           A       1.00      0.99      1.00      1145\n",
            "           B       1.00      1.00      1.00      2756\n",
            "           C       1.00      1.00      1.00      1099\n",
            "\n",
            "    accuracy                           1.00      5000\n",
            "   macro avg       1.00      1.00      1.00      5000\n",
            "weighted avg       1.00      1.00      1.00      5000\n",
            "\n"
          ]
        }
      ]
    }
  ]
}